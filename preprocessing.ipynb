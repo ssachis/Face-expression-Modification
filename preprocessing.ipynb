{
 "cells": [
  {
   "cell_type": "code",
   "execution_count": 65,
   "id": "f04f5df8",
   "metadata": {},
   "outputs": [],
   "source": [
    "import os, shutil\n",
    "source_dir = 'AR_DB\\\\s1'\n",
    "\n",
    "\n",
    "files = os.listdir(source_dir)\n",
    "\n",
    "for f in files:\n",
    "    dirr=source_dir+\"\\\\\"+f\n",
    "    os.mkdir(\"data\\\\\"+f)\n",
    "\n"
   ]
  },
  {
   "cell_type": "code",
   "execution_count": null,
   "id": "93d89c71",
   "metadata": {},
   "outputs": [],
   "source": [
    "#make dir=data\n",
    "#s7-->remove after 26 "
   ]
  },
  {
   "cell_type": "code",
   "execution_count": 73,
   "id": "6a3a0258",
   "metadata": {
    "scrolled": false
   },
   "outputs": [],
   "source": [
    "source_dir = 'data'\n",
    "a='AR_DB'\n",
    "files = os.listdir(a)\n",
    "i=0\n",
    "for f in files:\n",
    "    path=a+\"\\\\\"+f\n",
    "    if path.endswith('.bmp'):\n",
    "        continue\n",
    "    else:\n",
    "        files2 = os.listdir(path)\n",
    "        for f2 in sorted(files2):\n",
    "            dirr2=source_dir+\"\\\\\"+f2\n",
    "            if dirr2.endswith('.bmp'):\n",
    "                shutil.copy(os.path.join(path, f2), dirr2)\n",
    "                os.rename( os.path.join(dirr2, f2),os.path.join(dirr2, str(i)+\"new\"+\".bmp\"))\n",
    "\n",
    "         \n",
    "    i=i+1\n",
    "  \n",
    "\n",
    "        "
   ]
  }
 ],
 "metadata": {
  "kernelspec": {
   "display_name": "Python 3 (ipykernel)",
   "language": "python",
   "name": "python3"
  },
  "language_info": {
   "codemirror_mode": {
    "name": "ipython",
    "version": 3
   },
   "file_extension": ".py",
   "mimetype": "text/x-python",
   "name": "python",
   "nbconvert_exporter": "python",
   "pygments_lexer": "ipython3",
   "version": "3.9.12"
  }
 },
 "nbformat": 4,
 "nbformat_minor": 5
}
